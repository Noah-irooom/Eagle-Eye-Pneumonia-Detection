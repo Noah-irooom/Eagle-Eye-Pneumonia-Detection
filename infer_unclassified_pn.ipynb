{
 "metadata": {
  "language_info": {
   "codemirror_mode": {
    "name": "ipython",
    "version": 3
   },
   "file_extension": ".py",
   "mimetype": "text/x-python",
   "name": "python",
   "nbconvert_exporter": "python",
   "pygments_lexer": "ipython3",
   "version": "3.8.5"
  },
  "orig_nbformat": 2,
  "kernelspec": {
   "name": "python385jvsc74a57bd035053b13540cc9c689537abeeb3163724f33bf7a8d6bceac8310aa7dd1f293a6",
   "display_name": "Python 3.8.5 64-bit"
  }
 },
 "nbformat": 4,
 "nbformat_minor": 2,
 "cells": [
  {
   "cell_type": "code",
   "execution_count": 6,
   "metadata": {},
   "outputs": [],
   "source": [
    "import torch\n",
    "\n",
    "from dataloader.ClassificationDataset import InferenceDataset\n",
    "from models.infer import infer, write_to_file"
   ]
  },
  {
   "cell_type": "code",
   "execution_count": null,
   "metadata": {},
   "outputs": [],
   "source": [
    "device = torch.device(\"cuda:0\" if torch.cuda.is_available() else \"cpu\")"
   ]
  },
  {
   "cell_type": "code",
   "execution_count": 4,
   "metadata": {},
   "outputs": [],
   "source": [
    "dataset = InferenceDataset(root=\"/content/data_server\")"
   ]
  },
  {
   "cell_type": "code",
   "execution_count": null,
   "metadata": {},
   "outputs": [],
   "source": [
    "version = \"b1\"\n",
    "model_name = f\"/content/drive/MyDrive/eagle_eye_models/{version}/model.pt\"\n",
    "model = TypeClassifier(version=version, num_classes=4).to(device)\n",
    "\n",
    "checkpoint = torch.load(model_name)\n",
    "model.load_state_dict(checkpoint[\"State_dict\"])"
   ]
  },
  {
   "cell_type": "code",
   "execution_count": null,
   "metadata": {},
   "outputs": [],
   "source": [
    "predictions = infer(model, dataset, device)"
   ]
  },
  {
   "cell_type": "code",
   "execution_count": null,
   "metadata": {},
   "outputs": [],
   "source": [
    "write_to_file(predictions, dataset, \"/content/data_server/class/meta/inferenced_metadata.csv\")"
   ]
  }
 ]
}