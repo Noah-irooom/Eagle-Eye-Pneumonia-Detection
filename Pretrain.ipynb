{
  "nbformat": 4,
  "nbformat_minor": 0,
  "metadata": {
    "colab": {
      "name": "Copy of Pretrain.ipynb",
      "provenance": [],
      "collapsed_sections": [],
      "toc_visible": true
    },
    "kernelspec": {
      "name": "python3",
      "display_name": "Python 3",
      "language": "python"
    },
    "accelerator": "GPU",
    "widgets": {
      "application/vnd.jupyter.widget-state+json": {
        "9063d5c7bc9b45139b32eb853a6de870": {
          "model_module": "@jupyter-widgets/controls",
          "model_name": "HBoxModel",
          "state": {
            "_view_name": "HBoxView",
            "_dom_classes": [],
            "_model_name": "HBoxModel",
            "_view_module": "@jupyter-widgets/controls",
            "_model_module_version": "1.5.0",
            "_view_count": null,
            "_view_module_version": "1.5.0",
            "box_style": "",
            "layout": "IPY_MODEL_296b05f068b54d5cb9e034ae6135d740",
            "_model_module": "@jupyter-widgets/controls",
            "children": [
              "IPY_MODEL_00cdbc0ceef04ff798750402df47d4de",
              "IPY_MODEL_8e2b452032114bacaa65c94a50dfda11"
            ]
          }
        },
        "296b05f068b54d5cb9e034ae6135d740": {
          "model_module": "@jupyter-widgets/base",
          "model_name": "LayoutModel",
          "state": {
            "_view_name": "LayoutView",
            "grid_template_rows": null,
            "right": null,
            "justify_content": null,
            "_view_module": "@jupyter-widgets/base",
            "overflow": null,
            "_model_module_version": "1.2.0",
            "_view_count": null,
            "flex_flow": null,
            "width": null,
            "min_width": null,
            "border": null,
            "align_items": null,
            "bottom": null,
            "_model_module": "@jupyter-widgets/base",
            "top": null,
            "grid_column": null,
            "overflow_y": null,
            "overflow_x": null,
            "grid_auto_flow": null,
            "grid_area": null,
            "grid_template_columns": null,
            "flex": null,
            "_model_name": "LayoutModel",
            "justify_items": null,
            "grid_row": null,
            "max_height": null,
            "align_content": null,
            "visibility": null,
            "align_self": null,
            "height": null,
            "min_height": null,
            "padding": null,
            "grid_auto_rows": null,
            "grid_gap": null,
            "max_width": null,
            "order": null,
            "_view_module_version": "1.2.0",
            "grid_template_areas": null,
            "object_position": null,
            "object_fit": null,
            "grid_auto_columns": null,
            "margin": null,
            "display": null,
            "left": null
          }
        },
        "00cdbc0ceef04ff798750402df47d4de": {
          "model_module": "@jupyter-widgets/controls",
          "model_name": "FloatProgressModel",
          "state": {
            "_view_name": "ProgressView",
            "style": "IPY_MODEL_93d6ae2c9fc0447680a24941f428a2ba",
            "_dom_classes": [],
            "description": "[train 1/10]:   0%",
            "_model_name": "FloatProgressModel",
            "bar_style": "",
            "max": 61,
            "_view_module": "@jupyter-widgets/controls",
            "_model_module_version": "1.5.0",
            "value": 0,
            "_view_count": null,
            "_view_module_version": "1.5.0",
            "orientation": "horizontal",
            "min": 0,
            "description_tooltip": null,
            "_model_module": "@jupyter-widgets/controls",
            "layout": "IPY_MODEL_a7e4e3f5d081452ab9ac09f6636d0bd3"
          }
        },
        "8e2b452032114bacaa65c94a50dfda11": {
          "model_module": "@jupyter-widgets/controls",
          "model_name": "HTMLModel",
          "state": {
            "_view_name": "HTMLView",
            "style": "IPY_MODEL_33b3877c94e942d6876d3e5ce85a3eba",
            "_dom_classes": [],
            "description": "",
            "_model_name": "HTMLModel",
            "placeholder": "​",
            "_view_module": "@jupyter-widgets/controls",
            "_model_module_version": "1.5.0",
            "value": " 0/61 [00:00&lt;?, ?it/s]",
            "_view_count": null,
            "_view_module_version": "1.5.0",
            "description_tooltip": null,
            "_model_module": "@jupyter-widgets/controls",
            "layout": "IPY_MODEL_cdbfd26ea3fe47c4a31e9a2d007b1b97"
          }
        },
        "93d6ae2c9fc0447680a24941f428a2ba": {
          "model_module": "@jupyter-widgets/controls",
          "model_name": "ProgressStyleModel",
          "state": {
            "_view_name": "StyleView",
            "_model_name": "ProgressStyleModel",
            "description_width": "initial",
            "_view_module": "@jupyter-widgets/base",
            "_model_module_version": "1.5.0",
            "_view_count": null,
            "_view_module_version": "1.2.0",
            "bar_color": null,
            "_model_module": "@jupyter-widgets/controls"
          }
        },
        "a7e4e3f5d081452ab9ac09f6636d0bd3": {
          "model_module": "@jupyter-widgets/base",
          "model_name": "LayoutModel",
          "state": {
            "_view_name": "LayoutView",
            "grid_template_rows": null,
            "right": null,
            "justify_content": null,
            "_view_module": "@jupyter-widgets/base",
            "overflow": null,
            "_model_module_version": "1.2.0",
            "_view_count": null,
            "flex_flow": null,
            "width": null,
            "min_width": null,
            "border": null,
            "align_items": null,
            "bottom": null,
            "_model_module": "@jupyter-widgets/base",
            "top": null,
            "grid_column": null,
            "overflow_y": null,
            "overflow_x": null,
            "grid_auto_flow": null,
            "grid_area": null,
            "grid_template_columns": null,
            "flex": null,
            "_model_name": "LayoutModel",
            "justify_items": null,
            "grid_row": null,
            "max_height": null,
            "align_content": null,
            "visibility": null,
            "align_self": null,
            "height": null,
            "min_height": null,
            "padding": null,
            "grid_auto_rows": null,
            "grid_gap": null,
            "max_width": null,
            "order": null,
            "_view_module_version": "1.2.0",
            "grid_template_areas": null,
            "object_position": null,
            "object_fit": null,
            "grid_auto_columns": null,
            "margin": null,
            "display": null,
            "left": null
          }
        },
        "33b3877c94e942d6876d3e5ce85a3eba": {
          "model_module": "@jupyter-widgets/controls",
          "model_name": "DescriptionStyleModel",
          "state": {
            "_view_name": "StyleView",
            "_model_name": "DescriptionStyleModel",
            "description_width": "",
            "_view_module": "@jupyter-widgets/base",
            "_model_module_version": "1.5.0",
            "_view_count": null,
            "_view_module_version": "1.2.0",
            "_model_module": "@jupyter-widgets/controls"
          }
        },
        "cdbfd26ea3fe47c4a31e9a2d007b1b97": {
          "model_module": "@jupyter-widgets/base",
          "model_name": "LayoutModel",
          "state": {
            "_view_name": "LayoutView",
            "grid_template_rows": null,
            "right": null,
            "justify_content": null,
            "_view_module": "@jupyter-widgets/base",
            "overflow": null,
            "_model_module_version": "1.2.0",
            "_view_count": null,
            "flex_flow": null,
            "width": null,
            "min_width": null,
            "border": null,
            "align_items": null,
            "bottom": null,
            "_model_module": "@jupyter-widgets/base",
            "top": null,
            "grid_column": null,
            "overflow_y": null,
            "overflow_x": null,
            "grid_auto_flow": null,
            "grid_area": null,
            "grid_template_columns": null,
            "flex": null,
            "_model_name": "LayoutModel",
            "justify_items": null,
            "grid_row": null,
            "max_height": null,
            "align_content": null,
            "visibility": null,
            "align_self": null,
            "height": null,
            "min_height": null,
            "padding": null,
            "grid_auto_rows": null,
            "grid_gap": null,
            "max_width": null,
            "order": null,
            "_view_module_version": "1.2.0",
            "grid_template_areas": null,
            "object_position": null,
            "object_fit": null,
            "grid_auto_columns": null,
            "margin": null,
            "display": null,
            "left": null
          }
        }
      }
    }
  },
  "cells": [
    {
      "cell_type": "markdown",
      "metadata": {
        "id": "M1mYYov4bght"
      },
      "source": [
        "## Initial Setup"
      ]
    },
    {
      "cell_type": "code",
      "metadata": {
        "colab": {
          "base_uri": "https://localhost:8080/"
        },
        "id": "rGdsR2OqRARA",
        "outputId": "e897a9e7-ad3e-4c43-9d32-349d56bbdca7"
      },
      "source": [
        "!git clone https://github.com/syncdoth/Eagle-Eye-Pneumonia-Detection.git"
      ],
      "execution_count": 1,
      "outputs": [
        {
          "output_type": "stream",
          "text": [
            "Cloning into 'Eagle-Eye-Pneumonia-Detection'...\n",
            "remote: Enumerating objects: 92, done.\u001b[K\n",
            "remote: Counting objects: 100% (92/92), done.\u001b[K\n",
            "remote: Compressing objects: 100% (64/64), done.\u001b[K\n",
            "remote: Total 267 (delta 53), reused 60 (delta 28), pack-reused 175\u001b[K\n",
            "Receiving objects: 100% (267/267), 200.20 KiB | 18.20 MiB/s, done.\n",
            "Resolving deltas: 100% (130/130), done.\n"
          ],
          "name": "stdout"
        }
      ]
    },
    {
      "cell_type": "code",
      "metadata": {
        "colab": {
          "base_uri": "https://localhost:8080/"
        },
        "id": "kpuVxpGhVOZO",
        "outputId": "2891e603-da90-410d-83ce-65c50654523a"
      },
      "source": [
        "%cd Eagle-Eye-Pneumonia-Detection"
      ],
      "execution_count": 1,
      "outputs": [
        {
          "output_type": "stream",
          "text": [
            "/content/Eagle-Eye-Pneumonia-Detection\n"
          ],
          "name": "stdout"
        }
      ]
    },
    {
      "cell_type": "code",
      "metadata": {
        "colab": {
          "base_uri": "https://localhost:8080/"
        },
        "id": "UdkiKZAhRuuU",
        "outputId": "4b454156-7770-4128-bfd6-deb3d3a6e16d"
      },
      "source": [
        "!pip install --upgrade pip\n",
        "!pip install -r colab_requirements.txt"
      ],
      "execution_count": 10,
      "outputs": [
        {
          "output_type": "stream",
          "text": [
            "Requirement already satisfied: pip in /usr/local/lib/python3.7/dist-packages (21.0.1)\n",
            "Requirement already satisfied: scikit-learn==0.24.1 in /usr/local/lib/python3.7/dist-packages (from -r colab_requirements.txt (line 1)) (0.24.1)\n",
            "Requirement already satisfied: efficientnet_pytorch in /usr/local/lib/python3.7/dist-packages (from -r colab_requirements.txt (line 2)) (0.7.0)\n",
            "Requirement already satisfied: pydicom in /usr/local/lib/python3.7/dist-packages (from -r colab_requirements.txt (line 3)) (2.1.2)\n",
            "Requirement already satisfied: tqdm in /usr/local/lib/python3.7/dist-packages (from -r colab_requirements.txt (line 4)) (4.41.1)\n",
            "Requirement already satisfied: seaborn in /usr/local/lib/python3.7/dist-packages (from -r colab_requirements.txt (line 5)) (0.11.1)\n",
            "Requirement already satisfied: matplotlib in /usr/local/lib/python3.7/dist-packages (from -r colab_requirements.txt (line 6)) (3.2.2)\n",
            "Requirement already satisfied: joblib>=0.11 in /usr/local/lib/python3.7/dist-packages (from scikit-learn==0.24.1->-r colab_requirements.txt (line 1)) (1.0.1)\n",
            "Requirement already satisfied: scipy>=0.19.1 in /usr/local/lib/python3.7/dist-packages (from scikit-learn==0.24.1->-r colab_requirements.txt (line 1)) (1.4.1)\n",
            "Requirement already satisfied: threadpoolctl>=2.0.0 in /usr/local/lib/python3.7/dist-packages (from scikit-learn==0.24.1->-r colab_requirements.txt (line 1)) (2.1.0)\n",
            "Requirement already satisfied: numpy>=1.13.3 in /usr/local/lib/python3.7/dist-packages (from scikit-learn==0.24.1->-r colab_requirements.txt (line 1)) (1.19.5)\n",
            "Requirement already satisfied: torch in /usr/local/lib/python3.7/dist-packages (from efficientnet_pytorch->-r colab_requirements.txt (line 2)) (1.8.0+cu101)\n",
            "Requirement already satisfied: python-dateutil>=2.1 in /usr/local/lib/python3.7/dist-packages (from matplotlib->-r colab_requirements.txt (line 6)) (2.8.1)\n",
            "Requirement already satisfied: pyparsing!=2.0.4,!=2.1.2,!=2.1.6,>=2.0.1 in /usr/local/lib/python3.7/dist-packages (from matplotlib->-r colab_requirements.txt (line 6)) (2.4.7)\n",
            "Requirement already satisfied: kiwisolver>=1.0.1 in /usr/local/lib/python3.7/dist-packages (from matplotlib->-r colab_requirements.txt (line 6)) (1.3.1)\n",
            "Requirement already satisfied: cycler>=0.10 in /usr/local/lib/python3.7/dist-packages (from matplotlib->-r colab_requirements.txt (line 6)) (0.10.0)\n",
            "Requirement already satisfied: six in /usr/local/lib/python3.7/dist-packages (from cycler>=0.10->matplotlib->-r colab_requirements.txt (line 6)) (1.15.0)\n",
            "Requirement already satisfied: pandas>=0.23 in /usr/local/lib/python3.7/dist-packages (from seaborn->-r colab_requirements.txt (line 5)) (1.1.5)\n",
            "Requirement already satisfied: pytz>=2017.2 in /usr/local/lib/python3.7/dist-packages (from pandas>=0.23->seaborn->-r colab_requirements.txt (line 5)) (2018.9)\n",
            "Requirement already satisfied: typing-extensions in /usr/local/lib/python3.7/dist-packages (from torch->efficientnet_pytorch->-r colab_requirements.txt (line 2)) (3.7.4.3)\n",
            "Collecting paramiko\n",
            "  Downloading paramiko-2.7.2-py2.py3-none-any.whl (206 kB)\n",
            "\u001b[K     |████████████████████████████████| 206 kB 23.7 MB/s \n",
            "\u001b[?25hCollecting bcrypt>=3.1.3\n",
            "  Downloading bcrypt-3.2.0-cp36-abi3-manylinux2010_x86_64.whl (63 kB)\n",
            "\u001b[K     |████████████████████████████████| 63 kB 2.7 MB/s \n",
            "\u001b[?25hCollecting pynacl>=1.0.1\n",
            "  Downloading PyNaCl-1.4.0-cp35-abi3-manylinux1_x86_64.whl (961 kB)\n",
            "\u001b[K     |████████████████████████████████| 961 kB 16.7 MB/s \n",
            "\u001b[?25hCollecting cryptography>=2.5\n",
            "  Downloading cryptography-3.4.7-cp36-abi3-manylinux2014_x86_64.whl (3.2 MB)\n",
            "\u001b[K     |████████████████████████████████| 3.2 MB 64.9 MB/s \n",
            "\u001b[?25hRequirement already satisfied: cffi>=1.1 in /usr/local/lib/python3.7/dist-packages (from bcrypt>=3.1.3->paramiko) (1.14.5)\n",
            "Requirement already satisfied: six>=1.4.1 in /usr/local/lib/python3.7/dist-packages (from bcrypt>=3.1.3->paramiko) (1.15.0)\n",
            "Requirement already satisfied: pycparser in /usr/local/lib/python3.7/dist-packages (from cffi>=1.1->bcrypt>=3.1.3->paramiko) (2.20)\n",
            "Installing collected packages: pynacl, cryptography, bcrypt, paramiko\n",
            "Successfully installed bcrypt-3.2.0 cryptography-3.4.7 paramiko-2.7.2 pynacl-1.4.0\n"
          ],
          "name": "stdout"
        }
      ]
    },
    {
      "cell_type": "code",
      "metadata": {
        "colab": {
          "base_uri": "https://localhost:8080/"
        },
        "id": "kAL6JKXEb0Ic",
        "outputId": "4c67e8b3-5e62-43e2-a03d-e618c14a99ec"
      },
      "source": [
        "!git checkout sftp  # only to use sftp"
      ],
      "execution_count": 2,
      "outputs": [
        {
          "output_type": "stream",
          "text": [
            "Already on 'sftp'\n",
            "Your branch is up to date with 'origin/sftp'.\n"
          ],
          "name": "stdout"
        }
      ]
    },
    {
      "cell_type": "markdown",
      "metadata": {
        "id": "oS1TDfIKbghx"
      },
      "source": [
        "## Train"
      ]
    },
    {
      "cell_type": "code",
      "metadata": {
        "id": "m-QgxCU8RTYQ"
      },
      "source": [
        "import torch\n",
        "from importlib import reload\n",
        "from torch.utils.data import SubsetRandomSampler\n",
        "from models.type_classifier import TypeClassifier\n",
        "import models.train\n",
        "reload(models.train)\n",
        "from models.train import train, make_batch\n",
        "import dataloader.ClassificationDataset\n",
        "reload(dataloader.ClassificationDataset)\n",
        "from dataloader.ClassificationDataset import ClassificationDataset, AddGaussianNoise\n",
        "import torchvision\n",
        "from torchvision import transforms\n",
        "\n",
        "\n",
        "device = torch.device(\"cuda:0\" if torch.cuda.is_available() else \"cpu\")"
      ],
      "execution_count": 3,
      "outputs": []
    },
    {
      "cell_type": "code",
      "metadata": {
        "id": "_3XGGsPfbghy"
      },
      "source": [
        "feature_aug = torchvision.transforms.Compose([\n",
        "                transforms.ToTensor(),\n",
        "                transforms.ColorJitter(brightness=[0.1,0.5], contrast=0, saturation=0, hue=0),\n",
        "                transforms.RandomAffine(degrees=(0,15),\n",
        "                                        translate=None,\n",
        "                                        scale=None,\n",
        "                                        shear=None,\n",
        "                                        fillcolor=None,\n",
        "                                        resample=None),\n",
        "                AddGaussianNoise(0., 1.)])"
      ],
      "execution_count": 4,
      "outputs": []
    },
    {
      "cell_type": "code",
      "metadata": {
        "id": "A2RZ0o-PRroy"
      },
      "source": [
        "dataset = ClassificationDataset(root=\"/home/server/duhyeuk\", neg_prop=0.5, trans=None)\n",
        "\n",
        "train_loader = torch.utils.data.DataLoader(dataset, batch_size=64, collate_fn=make_batch, sampler=SubsetRandomSampler(dataset.train_idx))\n",
        "val_loader = torch.utils.data.DataLoader(dataset, batch_size=64, collate_fn=make_batch, sampler=SubsetRandomSampler(dataset.val_idx))\n",
        "test_loader = torch.utils.data.DataLoader(dataset, batch_size=64, collate_fn=make_batch, sampler=SubsetRandomSampler(dataset.test_idx))"
      ],
      "execution_count": 12,
      "outputs": []
    },
    {
      "cell_type": "code",
      "metadata": {
        "colab": {
          "base_uri": "https://localhost:8080/",
          "height": 66,
          "referenced_widgets": [
            "9063d5c7bc9b45139b32eb853a6de870",
            "296b05f068b54d5cb9e034ae6135d740",
            "00cdbc0ceef04ff798750402df47d4de",
            "8e2b452032114bacaa65c94a50dfda11",
            "93d6ae2c9fc0447680a24941f428a2ba",
            "a7e4e3f5d081452ab9ac09f6636d0bd3",
            "33b3877c94e942d6876d3e5ce85a3eba",
            "cdbfd26ea3fe47c4a31e9a2d007b1b97"
          ]
        },
        "id": "kqZr7rK5RtUV",
        "outputId": "99e8cb71-49d9-42f1-9347-6ffc49707345"
      },
      "source": [
        "version = \"b1\"\n",
        "pretrain_model = TypeClassifier(version=version, num_classes=4).to(device)\n",
        "\n",
        "optimizer = torch.optim.Adam(pretrain_model.parameters(), lr=1e-5)\n",
        "loss = torch.nn.CrossEntropyLoss(weight=torch.FloatTensor(dataset.get_class_weights()).to(device))\n",
        "epochs = 10\n",
        "\n",
        "history = train(pretrain_model, optimizer, train_loader, device, loss, \n",
        "                val_dataset=val_loader, epochs=epochs,\n",
        "                model_dir=f\"/content/drive/MyDrive/eagle_eye_models/{version}-new\")"
      ],
      "execution_count": null,
      "outputs": [
        {
          "output_type": "stream",
          "text": [
            "Loaded pretrained weights for efficientnet-b1\n"
          ],
          "name": "stdout"
        },
        {
          "output_type": "display_data",
          "data": {
            "application/vnd.jupyter.widget-view+json": {
              "model_id": "9063d5c7bc9b45139b32eb853a6de870",
              "version_minor": 0,
              "version_major": 2
            },
            "text/plain": [
              "HBox(children=(FloatProgress(value=0.0, description='[train 1/10]', max=61.0, style=ProgressStyle(description_…"
            ]
          },
          "metadata": {
            "tags": []
          }
        }
      ]
    },
    {
      "cell_type": "markdown",
      "metadata": {
        "id": "1wE3pBASbghz"
      },
      "source": [
        "## Visualize Results"
      ]
    },
    {
      "cell_type": "code",
      "metadata": {
        "colab": {
          "base_uri": "https://localhost:8080/",
          "height": 809
        },
        "id": "TJUFVRg1pp7x",
        "outputId": "00d1d8aa-5815-4f21-ffb1-5eff8236ccbc"
      },
      "source": [
        "import matplotlib.pyplot as plt\n",
        "import numpy as np\n",
        "\n",
        "plt.figure()\n",
        "plt.title(\"Train vs Valid Accuracy\")\n",
        "plt.plot(history[\"train_acc\"], label=\"train_acc\")\n",
        "plt.plot(np.repeat(np.array(history[\"val_acc\"]), len(train_loader)), label=\"val_acc\")\n",
        "plt.legend()\n",
        "\n",
        "plt.figure()\n",
        "plt.title(\"Train vs Valid Loss\")\n",
        "plt.plot(history[\"train_loss\"], label=\"train_loss\")\n",
        "plt.plot(np.repeat(np.array(history[\"val_loss\"]), len(train_loader)), label=\"val_loss\")\n",
        "plt.legend()\n",
        "\n",
        "plt.figure()\n",
        "plt.title(\"Valid Accuracy vs F1\")\n",
        "plt.plot(np.array(history[\"val_acc\"]), label=\"val_acc\")\n",
        "plt.plot(np.array(history[\"val_f1\"]), label=\"val_f1\")\n",
        "plt.legend();\n"
      ],
      "execution_count": null,
      "outputs": [
        {
          "output_type": "display_data",
          "data": {
            "image/png": "[encoded data removed]",
            "text/plain": [
              "<Figure size 432x288 with 1 Axes>"
            ]
          },
          "metadata": {
            "tags": [],
            "needs_background": "light"
          }
        },
        {
          "output_type": "display_data",
          "data": {
            "image/png": "[encoded data removed]",
            "text/plain": [
              "<Figure size 432x288 with 1 Axes>"
            ]
          },
          "metadata": {
            "tags": [],
            "needs_background": "light"
          }
        },
        {
          "output_type": "display_data",
          "data": {
            "image/png": "[encoded data removed]",
            "text/plain": [
              "<Figure size 432x288 with 1 Axes>"
            ]
          },
          "metadata": {
            "tags": [],
            "needs_background": "light"
          }
        }
      ]
    },
    {
      "cell_type": "code",
      "metadata": {
        "id": "v0Kr_YycrdU5"
      },
      "source": [],
      "execution_count": null,
      "outputs": []
    }
  ]
}